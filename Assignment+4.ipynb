{
 "cells": [
  {
   "cell_type": "markdown",
   "metadata": {},
   "source": [
    "---\n",
    "\n",
    "_You are currently looking at **version 1.1** of this notebook. To download notebooks and datafiles, as well as get help on Jupyter notebooks in the Coursera platform, visit the [Jupyter Notebook FAQ](https://www.coursera.org/learn/python-data-analysis/resources/0dhYG) course resource._\n",
    "\n",
    "---"
   ]
  },
  {
   "cell_type": "code",
   "execution_count": 58,
   "metadata": {
    "collapsed": true
   },
   "outputs": [],
   "source": [
    "import pandas as pd\n",
    "import numpy as np\n",
    "from scipy.stats import ttest_ind"
   ]
  },
  {
   "cell_type": "markdown",
   "metadata": {},
   "source": [
    "# Assignment 4 - Hypothesis Testing\n",
    "This assignment requires more individual learning than previous assignments - you are encouraged to check out the [pandas documentation](http://pandas.pydata.org/pandas-docs/stable/) to find functions or methods you might not have used yet, or ask questions on [Stack Overflow](http://stackoverflow.com/) and tag them as pandas and python related. And of course, the discussion forums are open for interaction with your peers and the course staff.\n",
    "\n",
    "Definitions:\n",
    "* A _quarter_ is a specific three month period, Q1 is January through March, Q2 is April through June, Q3 is July through September, Q4 is October through December.\n",
    "* A _recession_ is defined as starting with two consecutive quarters of GDP decline, and ending with two consecutive quarters of GDP growth.\n",
    "* A _recession bottom_ is the quarter within a recession which had the lowest GDP.\n",
    "* A _university town_ is a city which has a high percentage of university students compared to the total population of the city.\n",
    "\n",
    "**Hypothesis**: University towns have their mean housing prices less effected by recessions. Run a t-test to compare the ratio of the mean price of houses in university towns the quarter before the recession starts compared to the recession bottom. (`price_ratio=quarter_before_recession/recession_bottom`)\n",
    "\n",
    "The following data files are available for this assignment:\n",
    "* From the [Zillow research data site](http://www.zillow.com/research/data/) there is housing data for the United States. In particular the datafile for [all homes at a city level](http://files.zillowstatic.com/research/public/City/City_Zhvi_AllHomes.csv), ```City_Zhvi_AllHomes.csv```, has median home sale prices at a fine grained level.\n",
    "* From the Wikipedia page on college towns is a list of [university towns in the United States](https://en.wikipedia.org/wiki/List_of_college_towns#College_towns_in_the_United_States) which has been copy and pasted into the file ```university_towns.txt```.\n",
    "* From Bureau of Economic Analysis, US Department of Commerce, the [GDP over time](http://www.bea.gov/national/index.htm#gdp) of the United States in current dollars (use the chained value in 2009 dollars), in quarterly intervals, in the file ```gdplev.xls```. For this assignment, only look at GDP data from the first quarter of 2000 onward.\n",
    "\n",
    "Each function in this assignment below is worth 10%, with the exception of ```run_ttest()```, which is worth 50%."
   ]
  },
  {
   "cell_type": "code",
   "execution_count": 59,
   "metadata": {
    "collapsed": true
   },
   "outputs": [],
   "source": [
    "# Use this dictionary to map state names to two letter acronyms\n",
    "states = {'OH': 'Ohio', 'KY': 'Kentucky', 'AS': 'American Samoa', 'NV': 'Nevada', 'WY': 'Wyoming', 'NA': 'National', 'AL': 'Alabama', 'MD': 'Maryland', 'AK': 'Alaska', 'UT': 'Utah', 'OR': 'Oregon', 'MT': 'Montana', 'IL': 'Illinois', 'TN': 'Tennessee', 'DC': 'District of Columbia', 'VT': 'Vermont', 'ID': 'Idaho', 'AR': 'Arkansas', 'ME': 'Maine', 'WA': 'Washington', 'HI': 'Hawaii', 'WI': 'Wisconsin', 'MI': 'Michigan', 'IN': 'Indiana', 'NJ': 'New Jersey', 'AZ': 'Arizona', 'GU': 'Guam', 'MS': 'Mississippi', 'PR': 'Puerto Rico', 'NC': 'North Carolina', 'TX': 'Texas', 'SD': 'South Dakota', 'MP': 'Northern Mariana Islands', 'IA': 'Iowa', 'MO': 'Missouri', 'CT': 'Connecticut', 'WV': 'West Virginia', 'SC': 'South Carolina', 'LA': 'Louisiana', 'KS': 'Kansas', 'NY': 'New York', 'NE': 'Nebraska', 'OK': 'Oklahoma', 'FL': 'Florida', 'CA': 'California', 'CO': 'Colorado', 'PA': 'Pennsylvania', 'DE': 'Delaware', 'NM': 'New Mexico', 'RI': 'Rhode Island', 'MN': 'Minnesota', 'VI': 'Virgin Islands', 'NH': 'New Hampshire', 'MA': 'Massachusetts', 'GA': 'Georgia', 'ND': 'North Dakota', 'VA': 'Virginia'}"
   ]
  },
  {
   "cell_type": "code",
   "execution_count": 60,
   "metadata": {
    "collapsed": true,
    "umich_part_id": "021",
    "umich_partlist_id": "004"
   },
   "outputs": [],
   "source": [
    "def get_list_of_university_towns():\n",
    "    '''Returns a DataFrame of towns and the states they are in from the \n",
    "    university_towns.txt list. The format of the DataFrame should be:\n",
    "    DataFrame( [ [\"Michigan\", \"Ann Arbor\"], [\"Michigan\", \"Yipsilanti\"] ], \n",
    "    columns=[\"State\", \"RegionName\"]  )\n",
    "    \n",
    "    The following cleaning needs to be done:\n",
    "\n",
    "    1. For \"State\", removing characters from \"[\" to the end.\n",
    "    2. For \"RegionName\", when applicable, removing every character from \" (\" to the end.\n",
    "    3. Depending on how you read the data, you may need to remove newline character '\\n'. '''\n",
    "    \n",
    "    #read the txt file as a csv and specify a separator that we know is not used\n",
    "    df = pd.read_csv('university_towns.txt', sep=';', names=['txt'], header=None)\n",
    "    #create an state column that is filled for the state entries\n",
    "    df['State'] = df.loc[df['txt'].str.contains('\\[edit\\]'), 'txt'].str.extract('(.*?)\\[edit\\]', expand=False)\n",
    "    #fill the state entries forward\n",
    "    df['State'] = df['State'].fillna(method='ffill')\n",
    "    #drop all state entries so only cities are left on txt\n",
    "    df.drop(df.index[df['txt'].str.contains('\\[edit\\]')], inplace=True)\n",
    "    #extract the region name from all texts\n",
    "    #df['RegionName'] = df['txt'].str.extract('(.*?) \\(.*')\n",
    "    df['RegionName'] = df['txt'].str.extract('([^\\(]*)').str.strip()\n",
    "    #df['RegionName'] = df['RegionName'].str.strip()\n",
    "    #reset the index and drop the unecessary columns\n",
    "    df = df.reset_index().drop(['txt', 'index'], axis=1)\n",
    "    return df\n",
    "#get_list_of_university_towns()"
   ]
  },
  {
   "cell_type": "code",
   "execution_count": 61,
   "metadata": {},
   "outputs": [
    {
     "data": {
      "text/plain": [
       "'TESTS for Q1\\nstateStr = \"\"\"\\nOhio, Kentucky, American Samoa, Nevada, Wyoming\\n,National, Alabama, Maryland, Alaska, Utah\\n,Oregon, Montana, Illinois, Tennessee, District of Columbia\\n,Vermont, Idaho, Arkansas, Maine, Washington\\n,Hawaii, Wisconsin, Michigan, Indiana, New Jersey\\n,Arizona, Guam, Mississippi, Puerto Rico, North Carolina\\n,Texas, South Dakota, Northern Mariana Islands, Iowa, Missouri\\n,Connecticut, West Virginia, South Carolina, Louisiana, Kansas\\n,New York, Nebraska, Oklahoma, Florida, California\\n,Colorado, Pennsylvania, Delaware, New Mexico, Rhode Island\\n,Minnesota, Virgin Islands, New Hampshire, Massachusetts, Georgia\\n,North Dakota, Virginia\\n\"\"\"\\n#list of regionName entries string length\\nregNmLenStr = \"\"\"\\n06,08,12,10,10,04,10,08,09,09,05,06,11,06,12,09,08,10,12,06,\\n06,06,08,05,09,06,05,06,10,28,06,06,09,06,08,09,10,35,09,15,\\n13,10,07,21,08,07,07,07,12,06,14,07,08,16,09,10,11,09,10,06,\\n11,05,06,09,10,12,06,06,11,07,08,13,07,11,05,06,06,07,10,08,\\n11,08,13,12,06,04,08,10,08,07,12,05,06,09,07,10,16,10,06,12,\\n08,07,06,06,06,11,14,11,07,06,06,12,08,10,11,06,10,14,04,11,\\n18,07,07,08,09,06,13,11,12,10,07,12,07,04,08,09,09,13,08,10,\\n16,09,10,08,06,08,12,07,11,09,07,09,06,12,06,09,07,10,09,10,\\n09,06,15,05,10,09,11,12,10,10,09,13,06,09,11,06,11,09,13,37,\\n06,13,06,09,49,07,11,12,09,11,11,07,12,10,06,06,09,04,09,15,\\n10,12,05,09,08,09,09,07,14,06,07,16,12,09,07,09,06,32,07,08,\\n08,06,10,36,09,10,09,06,09,11,09,06,10,07,14,08,07,06,10,09,\\n05,11,07,06,08,07,05,07,07,04,06,05,09,04,25,06,07,08,05,08,\\n06,05,11,09,07,07,06,13,09,05,16,05,10,09,08,11,06,06,06,10,\\n09,07,06,07,10,05,08,07,06,08,06,30,09,07,06,11,07,12,08,09,\\n16,12,11,08,06,04,10,10,15,05,11,11,09,08,06,04,10,10,07,09,\\n11,08,26,07,13,05,11,03,08,07,06,05,08,13,10,08,08,08,07,07,\\n09,05,04,11,11,07,06,10,11,03,04,06,06,08,08,06,10,09,05,11,\\n07,09,06,12,13,09,10,11,08,07,07,08,09,10,08,10,08,56,07,12,\\n07,16,08,04,10,10,10,10,07,09,08,09,09,10,07,09,09,09,12,14,\\n10,29,19,07,11,12,13,13,09,10,12,12,12,08,10,07,10,07,07,08,\\n08,08,09,10,09,11,09,07,09,10,11,11,10,09,09,12,09,06,08,07,\\n12,09,07,07,06,06,08,06,15,08,06,06,10,10,10,07,05,10,07,11,\\n09,12,10,12,04,10,05,05,04,14,07,10,09,07,11,10,10,10,11,15,\\n09,14,12,09,09,07,12,04,10,10,06,10,07,28,06,10,08,09,10,10,\\n10,13,12,08,10,09,09,07,09,09,07,11,11,13,08,10,07\\n\"\"\"\\n\\ndf = get_list_of_university_towns()\\n\\ncols = [\"State\", \"RegionName\"]\\n\\nprint(\\'Shape test: \\', \"Passed\" if df.shape ==\\n      (517, 2) else \\'Failed\\')\\nprint(\\'Index test: \\',\\n      \"Passed\" if df.index.tolist() == list(range(517))\\n      else \\'Failed\\')\\n\\nprint(\\'Column test: \\',\\n      \"Passed\" if df.columns.tolist() == cols else \\'Failed\\')\\nprint(\\'\\\\n test: \\',\\n      \"Failed\" if any(df[cols[0]].str.contains(\\n          \\'\\n\\')) or any(df[cols[1]].str.contains(\\'\\n\\'))\\n      else \\'Passed\\')\\nprint(\\'Trailing whitespace test:\\',\\n      \"Failed\" if any(df[cols[0]].str.contains(\\n          \\'\\\\s+$\\')) or any(df[cols[1]].str.contains(\\n              \\'\\\\s+$\\'))\\n      else \\'Passed\\')\\nprint(\\'\"(\" test:\\',\\n      \"Failed\" if any(df[cols[0]].str.contains(\\n          \\'\\\\(\\')) or any(df[cols[1]].str.contains(\\n              \\'\\\\(\\'))\\n      else \\'Passed\\')\\nprint(\\'\"[\" test:\\',\\n      \"Failed\" if any(df[cols[0]].str.contains(\\n          \\'\\\\[\\')) or any(df[cols[1]].str.contains(\\n              \\'\\\\]\\'))\\n      else \\'Passed\\')\\n\\nstates_vlist = [st.strip() for st in stateStr.split(\\',\\')]\\n\\nmismatchedStates = df[~df[\\'State\\'].isin(\\n    states_vlist)].loc[:, \\'State\\'].unique()\\nprint(\\'State test: \\', \"Passed\" if len(\\n    mismatchedStates) == 0 else \"Failed\")\\nif len(mismatchedStates) > 0:\\n    print()\\n    print(\\'The following states failed the equality test:\\')\\n    print()\\n    print(\\'\\n\\'.join(mismatchedStates))\\n\\ndf[\\'expected_length\\'] = [int(s.strip())\\n                         for s in regNmLenStr.split(\\',\\')\\n                         if s.strip().isdigit()]\\nregDiff = df[df[\\'RegionName\\'].str.len() != df[\\'expected_length\\']].loc[\\n    :, [\\'RegionName\\', \\'expected_length\\']]\\nregDiff[\\'actual_length\\'] = regDiff[\\'RegionName\\'].str.len()\\nprint(\\'RegionName test: \\', \"Passed\" if len(regDiff) ==\\n      0 else \\' \\nMismatching regionNames\\n {}\\'.format(regDiff))'"
      ]
     },
     "execution_count": 61,
     "metadata": {},
     "output_type": "execute_result"
    }
   ],
   "source": [
    "'''TESTS for Q1\n",
    "stateStr = \"\"\"\n",
    "Ohio, Kentucky, American Samoa, Nevada, Wyoming\n",
    ",National, Alabama, Maryland, Alaska, Utah\n",
    ",Oregon, Montana, Illinois, Tennessee, District of Columbia\n",
    ",Vermont, Idaho, Arkansas, Maine, Washington\n",
    ",Hawaii, Wisconsin, Michigan, Indiana, New Jersey\n",
    ",Arizona, Guam, Mississippi, Puerto Rico, North Carolina\n",
    ",Texas, South Dakota, Northern Mariana Islands, Iowa, Missouri\n",
    ",Connecticut, West Virginia, South Carolina, Louisiana, Kansas\n",
    ",New York, Nebraska, Oklahoma, Florida, California\n",
    ",Colorado, Pennsylvania, Delaware, New Mexico, Rhode Island\n",
    ",Minnesota, Virgin Islands, New Hampshire, Massachusetts, Georgia\n",
    ",North Dakota, Virginia\n",
    "\"\"\"\n",
    "#list of regionName entries string length\n",
    "regNmLenStr = \"\"\"\n",
    "06,08,12,10,10,04,10,08,09,09,05,06,11,06,12,09,08,10,12,06,\n",
    "06,06,08,05,09,06,05,06,10,28,06,06,09,06,08,09,10,35,09,15,\n",
    "13,10,07,21,08,07,07,07,12,06,14,07,08,16,09,10,11,09,10,06,\n",
    "11,05,06,09,10,12,06,06,11,07,08,13,07,11,05,06,06,07,10,08,\n",
    "11,08,13,12,06,04,08,10,08,07,12,05,06,09,07,10,16,10,06,12,\n",
    "08,07,06,06,06,11,14,11,07,06,06,12,08,10,11,06,10,14,04,11,\n",
    "18,07,07,08,09,06,13,11,12,10,07,12,07,04,08,09,09,13,08,10,\n",
    "16,09,10,08,06,08,12,07,11,09,07,09,06,12,06,09,07,10,09,10,\n",
    "09,06,15,05,10,09,11,12,10,10,09,13,06,09,11,06,11,09,13,37,\n",
    "06,13,06,09,49,07,11,12,09,11,11,07,12,10,06,06,09,04,09,15,\n",
    "10,12,05,09,08,09,09,07,14,06,07,16,12,09,07,09,06,32,07,08,\n",
    "08,06,10,36,09,10,09,06,09,11,09,06,10,07,14,08,07,06,10,09,\n",
    "05,11,07,06,08,07,05,07,07,04,06,05,09,04,25,06,07,08,05,08,\n",
    "06,05,11,09,07,07,06,13,09,05,16,05,10,09,08,11,06,06,06,10,\n",
    "09,07,06,07,10,05,08,07,06,08,06,30,09,07,06,11,07,12,08,09,\n",
    "16,12,11,08,06,04,10,10,15,05,11,11,09,08,06,04,10,10,07,09,\n",
    "11,08,26,07,13,05,11,03,08,07,06,05,08,13,10,08,08,08,07,07,\n",
    "09,05,04,11,11,07,06,10,11,03,04,06,06,08,08,06,10,09,05,11,\n",
    "07,09,06,12,13,09,10,11,08,07,07,08,09,10,08,10,08,56,07,12,\n",
    "07,16,08,04,10,10,10,10,07,09,08,09,09,10,07,09,09,09,12,14,\n",
    "10,29,19,07,11,12,13,13,09,10,12,12,12,08,10,07,10,07,07,08,\n",
    "08,08,09,10,09,11,09,07,09,10,11,11,10,09,09,12,09,06,08,07,\n",
    "12,09,07,07,06,06,08,06,15,08,06,06,10,10,10,07,05,10,07,11,\n",
    "09,12,10,12,04,10,05,05,04,14,07,10,09,07,11,10,10,10,11,15,\n",
    "09,14,12,09,09,07,12,04,10,10,06,10,07,28,06,10,08,09,10,10,\n",
    "10,13,12,08,10,09,09,07,09,09,07,11,11,13,08,10,07\n",
    "\"\"\"\n",
    "\n",
    "df = get_list_of_university_towns()\n",
    "\n",
    "cols = [\"State\", \"RegionName\"]\n",
    "\n",
    "print('Shape test: ', \"Passed\" if df.shape ==\n",
    "      (517, 2) else 'Failed')\n",
    "print('Index test: ',\n",
    "      \"Passed\" if df.index.tolist() == list(range(517))\n",
    "      else 'Failed')\n",
    "\n",
    "print('Column test: ',\n",
    "      \"Passed\" if df.columns.tolist() == cols else 'Failed')\n",
    "print('\\\\n test: ',\n",
    "      \"Failed\" if any(df[cols[0]].str.contains(\n",
    "          '\\n')) or any(df[cols[1]].str.contains('\\n'))\n",
    "      else 'Passed')\n",
    "print('Trailing whitespace test:',\n",
    "      \"Failed\" if any(df[cols[0]].str.contains(\n",
    "          '\\s+$')) or any(df[cols[1]].str.contains(\n",
    "              '\\s+$'))\n",
    "      else 'Passed')\n",
    "print('\"(\" test:',\n",
    "      \"Failed\" if any(df[cols[0]].str.contains(\n",
    "          '\\(')) or any(df[cols[1]].str.contains(\n",
    "              '\\('))\n",
    "      else 'Passed')\n",
    "print('\"[\" test:',\n",
    "      \"Failed\" if any(df[cols[0]].str.contains(\n",
    "          '\\[')) or any(df[cols[1]].str.contains(\n",
    "              '\\]'))\n",
    "      else 'Passed')\n",
    "\n",
    "states_vlist = [st.strip() for st in stateStr.split(',')]\n",
    "\n",
    "mismatchedStates = df[~df['State'].isin(\n",
    "    states_vlist)].loc[:, 'State'].unique()\n",
    "print('State test: ', \"Passed\" if len(\n",
    "    mismatchedStates) == 0 else \"Failed\")\n",
    "if len(mismatchedStates) > 0:\n",
    "    print()\n",
    "    print('The following states failed the equality test:')\n",
    "    print()\n",
    "    print('\\n'.join(mismatchedStates))\n",
    "\n",
    "df['expected_length'] = [int(s.strip())\n",
    "                         for s in regNmLenStr.split(',')\n",
    "                         if s.strip().isdigit()]\n",
    "regDiff = df[df['RegionName'].str.len() != df['expected_length']].loc[\n",
    "    :, ['RegionName', 'expected_length']]\n",
    "regDiff['actual_length'] = regDiff['RegionName'].str.len()\n",
    "print('RegionName test: ', \"Passed\" if len(regDiff) ==\n",
    "      0 else ' \\nMismatching regionNames\\n {}'.format(regDiff))'''\n"
   ]
  },
  {
   "cell_type": "code",
   "execution_count": 62,
   "metadata": {
    "umich_part_id": "022",
    "umich_partlist_id": "004"
   },
   "outputs": [],
   "source": [
    "def get_recession_start():\n",
    "    '''Returns the year and quarter of the recession start time as a \n",
    "    string value in a format such as 2005q3'''\n",
    "    #read excel only store the used data\n",
    "    df = pd.read_excel('gdplev.xls', skiprows=7, usecols=[4,6], index_col=0, names=['GDP'])\n",
    "    #record when GDP declines\n",
    "    df['GDPdecline'] = df.diff() < 0\n",
    "    #take into account only from year 2000\n",
    "    df = df.loc['2000q1':]\n",
    "    #find when recessions start\n",
    "    df['recession'] = (df['GDPdecline']==df['GDPdecline'].shift(-1)) & df['GDPdecline']\n",
    "    #return the start of the recession\n",
    "    return df.index[df['recession']][0]\n",
    "#get_recession_start()"
   ]
  },
  {
   "cell_type": "code",
   "execution_count": 63,
   "metadata": {
    "umich_part_id": "023",
    "umich_partlist_id": "004"
   },
   "outputs": [],
   "source": [
    "def get_recession_end():\n",
    "    '''Returns the year and quarter of the recession end time as a \n",
    "    string value in a format such as 2005q3'''\n",
    "    #read excel only store the used data\n",
    "    df = pd.read_excel('gdplev.xls', skiprows=7, usecols=[4,6], index_col=0, names=['GDP'])\n",
    "    #record when GDP increases\n",
    "    df['GDPgrowth'] = df['GDP'] >= df['GDP'].shift()\n",
    "    #take into account only from year the recession started\n",
    "    df = df.loc[get_recession_start():]\n",
    "    #find when GDP increases twice in a row\n",
    "    df['endrecession'] = (df['GDPgrowth']==df['GDPgrowth'].shift()) & df['GDPgrowth']\n",
    "    return df.index[df['endrecession']][0]\n",
    "#get_recession_end()"
   ]
  },
  {
   "cell_type": "code",
   "execution_count": 64,
   "metadata": {
    "collapsed": true,
    "umich_part_id": "024",
    "umich_partlist_id": "004"
   },
   "outputs": [],
   "source": [
    "def get_recession_bottom():\n",
    "    '''Returns the year and quarter of the recession bottom time as a \n",
    "    string value in a format such as 2005q3'''\n",
    "    #read excel only store the used data\n",
    "    df = pd.read_excel('gdplev.xls', skiprows=7, usecols=[4,6], index_col=0, names=['GDP'])\n",
    "    df = df.loc[get_recession_start():get_recession_end()]\n",
    "    return df.idxmin()['GDP']\n",
    "#get_recession_bottom()"
   ]
  },
  {
   "cell_type": "code",
   "execution_count": 65,
   "metadata": {
    "collapsed": true,
    "umich_part_id": "025",
    "umich_partlist_id": "004"
   },
   "outputs": [],
   "source": [
    "def convert_housing_data_to_quarters():\n",
    "    '''Converts the housing data to quarters and returns it as mean \n",
    "    values in a dataframe. This dataframe should be a dataframe with\n",
    "    columns for 2000q1 through 2016q3, and should have a multi-index\n",
    "    in the shape of [\"State\",\"RegionName\"].\n",
    "    \n",
    "    Note: Quarters are defined in the assignment description, they are\n",
    "    not arbitrary three month periods.\n",
    "    \n",
    "    The resulting dataframe should have 67 columns, and 10,730 rows.\n",
    "    '''\n",
    "    df = pd.read_csv('City_Zhvi_AllHomes.csv')\n",
    "    #map states with dictionary\n",
    "    df['State'] = df['State'].map(states)\n",
    "    #set new index\n",
    "    df = df.set_index(['State','RegionName']).drop('Index')\n",
    "    #only from 2000 onwards\n",
    "    df = df.loc[:,'2000-01':]\n",
    "    #convert column strings into period index in order to use resample\n",
    "    df.columns = pd.PeriodIndex(df.columns, freq='M')\n",
    "    #resample and turn columns back into strings\n",
    "    df = df.resample('Q', axis=1).mean().rename(columns=(lambda x: str(x).lower()))\n",
    "    \n",
    "    return df\n",
    "#convert_housing_data_to_quarters()"
   ]
  },
  {
   "cell_type": "code",
   "execution_count": 79,
   "metadata": {
    "umich_part_id": "026",
    "umich_partlist_id": "004"
   },
   "outputs": [
    {
     "data": {
      "text/plain": [
       "(True, 0.0027240637047531249, 'university town')"
      ]
     },
     "execution_count": 79,
     "metadata": {},
     "output_type": "execute_result"
    }
   ],
   "source": [
    "def run_ttest():\n",
    "    '''First creates new data showing the decline or growth of housing prices\n",
    "    between the recession start and the recession bottom. Then runs a ttest\n",
    "    comparing the university town values to the non-university towns values, \n",
    "    return whether the alternative hypothesis (that the two groups are the same)\n",
    "    is true or not as well as the p-value of the confidence. \n",
    "    \n",
    "    Return the tuple (different, p, better) where different=True if the t-test is\n",
    "    True at a p<0.01 (we reject the null hypothesis), or different=False if \n",
    "    otherwise (we cannot reject the null hypothesis). The variable p should\n",
    "    be equal to the exact p value returned from scipy.stats.ttest_ind(). The\n",
    "    value for better should be either \"university town\" or \"non-university town\"\n",
    "    depending on which has a lower mean price ratio (which is equivilent to a\n",
    "    reduced market loss).'''\n",
    "    #get the quarter string before the recession\n",
    "    quarter_before_start = str(pd.Period(get_recession_start(), freq='Q') - 1).lower()\n",
    "    #read and slice dataframe\n",
    "    df = convert_housing_data_to_quarters().loc[:, quarter_before_start:get_recession_bottom()]\n",
    "    #get the ratio using the provided formula\n",
    "    ratio = df.iloc[:,0]/df.iloc[:,-1]\n",
    "    #get university towns df\n",
    "    university_towns_df = get_list_of_university_towns()\n",
    "    #change the index in order for them to match existing ones\n",
    "    university_towns_df.set_index(['State', 'RegionName'], inplace=True)\n",
    "    #with the matching index it is simple to slice the series\n",
    "    university_house_ratio = ratio.loc[ratio.index.isin(university_towns_df.index)]\n",
    "    non_university_house_ratio = ratio.loc[~ratio.index.isin(university_towns_df.index)]\n",
    "    #perform the ttest ignoring nan\n",
    "    answer = ttest_ind(university_house_ratio, non_university_house_ratio, nan_policy='omit')\n",
    "    if (university_house_ratio.mean() < non_university_house_ratio.mean()):\n",
    "        answer_string = 'university town'\n",
    "    else:\n",
    "        answer_string = 'non-university town'\n",
    "    return (answer.pvalue < 0.01, answer.pvalue, answer_string)\n",
    "#run_ttest()"
   ]
  },
  {
   "cell_type": "code",
   "execution_count": null,
   "metadata": {
    "collapsed": true
   },
   "outputs": [],
   "source": []
  },
  {
   "cell_type": "code",
   "execution_count": null,
   "metadata": {
    "collapsed": true
   },
   "outputs": [],
   "source": []
  }
 ],
 "metadata": {
  "coursera": {
   "course_slug": "python-data-analysis",
   "graded_item_id": "Il9Fx",
   "launcher_item_id": "TeDW0",
   "part_id": "WGlun"
  },
  "kernelspec": {
   "display_name": "Python 3",
   "language": "python",
   "name": "python3"
  },
  "language_info": {
   "codemirror_mode": {
    "name": "ipython",
    "version": 3
   },
   "file_extension": ".py",
   "mimetype": "text/x-python",
   "name": "python",
   "nbconvert_exporter": "python",
   "pygments_lexer": "ipython3",
   "version": "3.6.2"
  },
  "umich": {
   "id": "Assignment 4",
   "version": "1.1"
  }
 },
 "nbformat": 4,
 "nbformat_minor": 1
}
